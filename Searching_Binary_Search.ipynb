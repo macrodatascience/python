{
  "nbformat": 4,
  "nbformat_minor": 0,
  "metadata": {
    "colab": {
      "name": "Searching - Binary Search.ipynb",
      "provenance": [],
      "collapsed_sections": [],
      "authorship_tag": "ABX9TyOC6qCnM6cQVyprhZPuHSNv",
      "include_colab_link": true
    },
    "kernelspec": {
      "name": "python3",
      "display_name": "Python 3"
    },
    "language_info": {
      "name": "python"
    }
  },
  "cells": [
    {
      "cell_type": "markdown",
      "metadata": {
        "id": "view-in-github",
        "colab_type": "text"
      },
      "source": [
        "<a href=\"https://colab.research.google.com/github/macrodatascience/python/blob/main/Searching_Binary_Search.ipynb\" target=\"_parent\"><img src=\"https://colab.research.google.com/assets/colab-badge.svg\" alt=\"Open In Colab\"/></a>"
      ]
    },
    {
      "cell_type": "code",
      "execution_count": 63,
      "metadata": {
        "id": "IijRv-XVSgHK"
      },
      "outputs": [],
      "source": [
        "def binary_search(arr, size, elem):\n",
        "    \"\"\"\n",
        "      Binary search provides a sorted array (ascending order), the size of the array, and the element to be searched\n",
        "      The function returns the index of the element in the array, if the element is not available it returns -1\n",
        "    \"\"\"\n",
        "    if size==len(arr):\n",
        "      pass\n",
        "    else:\n",
        "      print(\"WARNING! size doesn't match the actual array size, so ignoring the size provided.\")\n",
        "      size = len(arr)\n",
        "    \n",
        "    start = 0 \n",
        "    end = size-1\n",
        "\n",
        "    if arr[0] > elem or arr[end] < elem:\n",
        "      print(\"{0} not in the given array\".format(str(elem)))\n",
        "      return -1\n",
        "\n",
        "\n",
        "    while start <= end:\n",
        "\n",
        "      if arr[start] > elem:\n",
        "        print(\"{0} not in the given array\".format(str(elem)))\n",
        "        return -1\n",
        "      mid = (start + end)//2\n",
        "      if arr[mid]==elem:\n",
        "        print(\"{0} found in the given array at index {1}\".format(str(elem), str(mid)))\n",
        "        return start\n",
        "      elif arr[mid] > elem:\n",
        "        end = mid-1\n",
        "      else:\n",
        "        start = mid+1\n",
        "    return \"{elem} not in the given array\""
      ]
    },
    {
      "cell_type": "code",
      "source": [
        ""
      ],
      "metadata": {
        "id": "oOaRgRwlptiq"
      },
      "execution_count": 22,
      "outputs": []
    },
    {
      "cell_type": "code",
      "source": [
        "nums = [4,9,15,21,25,28,35,38,40,45]\n",
        "binary_search(nums, 10,28)\n"
      ],
      "metadata": {
        "colab": {
          "base_uri": "https://localhost:8080/"
        },
        "id": "BIxo4O6rS6yG",
        "outputId": "21a756ab-546f-433c-94eb-5f44f674c913"
      },
      "execution_count": 68,
      "outputs": [
        {
          "output_type": "stream",
          "name": "stdout",
          "text": [
            "28 found in the given array at index 5\n"
          ]
        },
        {
          "output_type": "execute_result",
          "data": {
            "text/plain": [
              "5"
            ]
          },
          "metadata": {},
          "execution_count": 68
        }
      ]
    },
    {
      "cell_type": "code",
      "source": [
        "binary_search?"
      ],
      "metadata": {
        "id": "RcXL2R4lZSzt"
      },
      "execution_count": 9,
      "outputs": []
    },
    {
      "cell_type": "markdown",
      "source": [
        "**Given a list that contains all integers from 1 to n — 1. The list is not sorted. One integer occurs twice in this list. Write a function that determines which integer occurs twice.**"
      ],
      "metadata": {
        "id": "BWdwm_1JwvRG"
      }
    },
    {
      "cell_type": "code",
      "source": [
        "# using a dictionary\n",
        "\n",
        "def find_duplicate(arr):\n",
        "\n",
        "  if len(arr)==1:\n",
        "    return None\n",
        "\n",
        "  int_map = dict()\n",
        "  for i in arr:\n",
        "    if i in int_map:\n",
        "      return i\n",
        "    else:\n",
        "      int_map[i] = 1\n",
        "  return None\n",
        "\n",
        "def test_find_duplicate():\n",
        "  assert find_duplicate([]) == None, \"empty array is considered unique\"\n",
        "  assert find_duplicate([1, 2]) == None , \"array of unique values returns None\"\n",
        "  assert find_duplicate([1, 2, 2]) == 2, \"duplicate returns the duplicate integer\"\n",
        "  assert find_duplicate([1, 2, 2, 1]) == 2, \"multiple duplicates returns the first duplicate\"\n",
        "\n",
        "find_duplicate([2,3,5,6,8,9,7,10,1,1,4])"
      ],
      "metadata": {
        "colab": {
          "base_uri": "https://localhost:8080/"
        },
        "id": "oQ12B29Jwx-g",
        "outputId": "2feecf32-16bf-4f32-9347-3634ea685b97"
      },
      "execution_count": 87,
      "outputs": [
        {
          "output_type": "execute_result",
          "data": {
            "text/plain": [
              "1"
            ]
          },
          "metadata": {},
          "execution_count": 87
        }
      ]
    },
    {
      "cell_type": "code",
      "source": [
        "test_find_duplicate()"
      ],
      "metadata": {
        "id": "iZ1vM6rAx2c_"
      },
      "execution_count": 89,
      "outputs": []
    }
  ]
}