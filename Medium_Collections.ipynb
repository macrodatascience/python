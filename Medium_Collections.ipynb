{
  "nbformat": 4,
  "nbformat_minor": 0,
  "metadata": {
    "colab": {
      "name": "Medium - Collections.ipynb",
      "provenance": [],
      "authorship_tag": "ABX9TyOpygPf8T2tBsXfJ13/hSYd",
      "include_colab_link": true
    },
    "kernelspec": {
      "name": "python3",
      "display_name": "Python 3"
    },
    "language_info": {
      "name": "python"
    }
  },
  "cells": [
    {
      "cell_type": "markdown",
      "metadata": {
        "id": "view-in-github",
        "colab_type": "text"
      },
      "source": [
        "<a href=\"https://colab.research.google.com/github/macrodatascience/python/blob/main/Medium_Collections.ipynb\" target=\"_parent\"><img src=\"https://colab.research.google.com/assets/colab-badge.svg\" alt=\"Open In Colab\"/></a>"
      ]
    },
    {
      "cell_type": "markdown",
      "source": [
        "# **Python Arrays**"
      ],
      "metadata": {
        "id": "j29vxkc82hkr"
      }
    },
    {
      "cell_type": "code",
      "execution_count": null,
      "metadata": {
        "id": "cB9Bnl5Ed5KV"
      },
      "outputs": [],
      "source": [
        "import array as arr"
      ]
    },
    {
      "cell_type": "code",
      "source": [
        "a = arr.array('i', [10,20,30,40,50])\n"
      ],
      "metadata": {
        "id": "WQT1j4TreCvt"
      },
      "execution_count": null,
      "outputs": []
    },
    {
      "cell_type": "code",
      "source": [
        "for i, each in enumerate(a):\n",
        "  print(i,\"->\",each)"
      ],
      "metadata": {
        "colab": {
          "base_uri": "https://localhost:8080/"
        },
        "id": "OwhlrL4BeJ9q",
        "outputId": "1e4e4ad5-323d-40f1-8cc3-528fe3818a98"
      },
      "execution_count": null,
      "outputs": [
        {
          "output_type": "stream",
          "name": "stdout",
          "text": [
            "0 -> 10\n",
            "1 -> 20\n",
            "2 -> 30\n",
            "3 -> 40\n",
            "4 -> 50\n"
          ]
        }
      ]
    },
    {
      "cell_type": "code",
      "source": [
        "for i in range(len(a)):\n",
        "  print(a[i],end=\" \")"
      ],
      "metadata": {
        "colab": {
          "base_uri": "https://localhost:8080/"
        },
        "id": "jtLwPoafiUUY",
        "outputId": "86737a1c-9bb6-42ce-a117-9c1096bc8386"
      },
      "execution_count": null,
      "outputs": [
        {
          "output_type": "stream",
          "name": "stdout",
          "text": [
            "10 20 30 40 50 "
          ]
        }
      ]
    },
    {
      "cell_type": "code",
      "source": [
        "f = arr.array(\"d\",[1.2,5.3,3.4,6.5,9.6])\n",
        "for i in range(len(f)):\n",
        "  print(i,\"->\",f[i])"
      ],
      "metadata": {
        "colab": {
          "base_uri": "https://localhost:8080/"
        },
        "id": "vMwbqisIguZQ",
        "outputId": "158de35e-12a1-415e-f2dc-880c18246b67"
      },
      "execution_count": null,
      "outputs": [
        {
          "output_type": "stream",
          "name": "stdout",
          "text": [
            "0 -> 1.2\n",
            "1 -> 5.3\n",
            "2 -> 3.4\n",
            "3 -> 6.5\n",
            "4 -> 9.6\n"
          ]
        }
      ]
    },
    {
      "cell_type": "code",
      "source": [
        "# insert an element\n",
        "a.insert(2,25)"
      ],
      "metadata": {
        "id": "G2YghLi0eLqW"
      },
      "execution_count": null,
      "outputs": []
    },
    {
      "cell_type": "code",
      "source": [
        "a"
      ],
      "metadata": {
        "colab": {
          "base_uri": "https://localhost:8080/"
        },
        "id": "dWW1bpzcepUT",
        "outputId": "c12bed05-6bf7-4f5e-b17e-6d62dd6e33b2"
      },
      "execution_count": null,
      "outputs": [
        {
          "output_type": "execute_result",
          "data": {
            "text/plain": [
              "array('i', [10, 20, 25, 30, 40, 50])"
            ]
          },
          "metadata": {},
          "execution_count": 10
        }
      ]
    },
    {
      "cell_type": "code",
      "source": [
        "# delete an element by index\n",
        "del a[0]"
      ],
      "metadata": {
        "id": "z3eIwpTWep1K"
      },
      "execution_count": null,
      "outputs": []
    },
    {
      "cell_type": "code",
      "source": [
        "a"
      ],
      "metadata": {
        "colab": {
          "base_uri": "https://localhost:8080/"
        },
        "id": "-1lgpz29estz",
        "outputId": "f2483f18-9dde-4e43-ae04-37b3c947d324"
      },
      "execution_count": null,
      "outputs": [
        {
          "output_type": "execute_result",
          "data": {
            "text/plain": [
              "array('i', [20, 25, 30, 40, 50])"
            ]
          },
          "metadata": {},
          "execution_count": 12
        }
      ]
    },
    {
      "cell_type": "code",
      "source": [
        "# pop an element\n",
        "\n",
        "a.pop()"
      ],
      "metadata": {
        "colab": {
          "base_uri": "https://localhost:8080/"
        },
        "id": "4dpvTqZUetwi",
        "outputId": "3fe92766-d9bb-41aa-955d-f1b68e17cfa8"
      },
      "execution_count": null,
      "outputs": [
        {
          "output_type": "execute_result",
          "data": {
            "text/plain": [
              "50"
            ]
          },
          "metadata": {},
          "execution_count": 13
        }
      ]
    },
    {
      "cell_type": "code",
      "source": [
        "a"
      ],
      "metadata": {
        "colab": {
          "base_uri": "https://localhost:8080/"
        },
        "id": "3Z_BiggOew-c",
        "outputId": "1ad9ad75-dd1d-41cb-de24-5a3fd85fda4a"
      },
      "execution_count": null,
      "outputs": [
        {
          "output_type": "execute_result",
          "data": {
            "text/plain": [
              "array('i', [20, 25, 30, 40])"
            ]
          },
          "metadata": {},
          "execution_count": 14
        }
      ]
    },
    {
      "cell_type": "code",
      "source": [
        "# append an element\n",
        "print(a)\n",
        "a.append(40)\n",
        "print(a)"
      ],
      "metadata": {
        "colab": {
          "base_uri": "https://localhost:8080/"
        },
        "id": "VDbkRgHDexaz",
        "outputId": "2255f6fd-11b9-4deb-cbde-0dd97b2abc89"
      },
      "execution_count": null,
      "outputs": [
        {
          "output_type": "stream",
          "name": "stdout",
          "text": [
            "array('i', [10, 20, 30, 40, 50, 40])\n",
            "array('i', [10, 20, 30, 40, 50, 40, 40])\n"
          ]
        }
      ]
    },
    {
      "cell_type": "code",
      "source": [
        "# removing an element (removes the first occurrence of the given element)\n",
        "\n",
        "a.remove(40)"
      ],
      "metadata": {
        "id": "0Qsa-xOMipAA"
      },
      "execution_count": null,
      "outputs": []
    },
    {
      "cell_type": "code",
      "source": [
        "a"
      ],
      "metadata": {
        "colab": {
          "base_uri": "https://localhost:8080/"
        },
        "id": "d4utLOd0i7MQ",
        "outputId": "84b03f02-0e85-4d5a-b38c-72ef5c06d1eb"
      },
      "execution_count": null,
      "outputs": [
        {
          "output_type": "execute_result",
          "data": {
            "text/plain": [
              "array('i', [10, 20, 30, 50, 40, 40])"
            ]
          },
          "metadata": {},
          "execution_count": 24
        }
      ]
    },
    {
      "cell_type": "code",
      "source": [
        "a.remove(40)\n",
        "a"
      ],
      "metadata": {
        "colab": {
          "base_uri": "https://localhost:8080/"
        },
        "id": "1nlnlE0Ki73i",
        "outputId": "d2ba47ae-302d-4475-cfa5-0598d9bd47ff"
      },
      "execution_count": null,
      "outputs": [
        {
          "output_type": "execute_result",
          "data": {
            "text/plain": [
              "array('i', [10, 20, 30, 50, 40])"
            ]
          },
          "metadata": {},
          "execution_count": 25
        }
      ]
    },
    {
      "cell_type": "code",
      "source": [
        "# find the index of a specific element\n",
        "\n",
        "a.index(50)"
      ],
      "metadata": {
        "colab": {
          "base_uri": "https://localhost:8080/"
        },
        "id": "4FsuXspLjCce",
        "outputId": "9f63e6b8-74ef-4202-b787-1554b99a065b"
      },
      "execution_count": null,
      "outputs": [
        {
          "output_type": "execute_result",
          "data": {
            "text/plain": [
              "3"
            ]
          },
          "metadata": {},
          "execution_count": 26
        }
      ]
    },
    {
      "cell_type": "code",
      "source": [
        "a.index(30)"
      ],
      "metadata": {
        "colab": {
          "base_uri": "https://localhost:8080/"
        },
        "id": "iexuW33BjNMT",
        "outputId": "1f93ae0b-e5ea-40bb-98f6-79bc7cbe9c1d"
      },
      "execution_count": null,
      "outputs": [
        {
          "output_type": "execute_result",
          "data": {
            "text/plain": [
              "2"
            ]
          },
          "metadata": {},
          "execution_count": 27
        }
      ]
    },
    {
      "cell_type": "markdown",
      "source": [
        "# **Python Containers**"
      ],
      "metadata": {
        "id": "9eV1c9hP2d2o"
      }
    },
    {
      "cell_type": "markdown",
      "source": [
        "# Topics \n",
        "  1. Counters\n",
        "  2. Ordered Dict\n",
        "  3. Default Dict\n",
        "  4. Chain Map\n",
        "  5. Named Tuple\n",
        "  6. DeQue\n",
        "  7. User Dict\n",
        "  8. User List\n",
        "  9. User String"
      ],
      "metadata": {
        "id": "rj-qTI3z2te0"
      }
    },
    {
      "cell_type": "code",
      "source": [
        "# 1. Counters\n",
        "\n",
        "from collections import Counter\n",
        "numbers = [9, 5, 17, 4, 17, 10, 9, 10, 3, 5, 7 ,8, 3, 6, 7, 8, 4, 5, 10, 5]\n",
        "Count = Counter(numbers)\n",
        "print(Count)"
      ],
      "metadata": {
        "colab": {
          "base_uri": "https://localhost:8080/"
        },
        "id": "rIPWMplrjMPH",
        "outputId": "ece117e0-4f81-4e5f-ec8f-718982d27784"
      },
      "execution_count": null,
      "outputs": [
        {
          "output_type": "stream",
          "name": "stdout",
          "text": [
            "Counter({5: 4, 10: 3, 9: 2, 17: 2, 4: 2, 3: 2, 7: 2, 8: 2, 6: 1})\n"
          ]
        }
      ]
    },
    {
      "cell_type": "code",
      "source": [
        "print(list(Count.elements()))"
      ],
      "metadata": {
        "colab": {
          "base_uri": "https://localhost:8080/"
        },
        "id": "TE_m0xiL4D58",
        "outputId": "69b9693b-ccf7-4ae3-fcb6-d1cd62860ca6"
      },
      "execution_count": null,
      "outputs": [
        {
          "output_type": "stream",
          "name": "stdout",
          "text": [
            "[9, 9, 5, 5, 5, 5, 17, 17, 4, 4, 10, 10, 10, 3, 3, 7, 7, 8, 8, 6]\n"
          ]
        }
      ]
    },
    {
      "cell_type": "code",
      "source": [
        "print(Count.most_common())"
      ],
      "metadata": {
        "colab": {
          "base_uri": "https://localhost:8080/"
        },
        "id": "g2WF85E04XtZ",
        "outputId": "ab146822-6cff-49e3-e1c3-fe564f99fadd"
      },
      "execution_count": null,
      "outputs": [
        {
          "output_type": "stream",
          "name": "stdout",
          "text": [
            "[(5, 4), (10, 3), (9, 2), (17, 2), (4, 2), (3, 2), (7, 2), (8, 2), (6, 1)]\n"
          ]
        }
      ]
    },
    {
      "cell_type": "code",
      "source": [
        "sub = {10:1, 17:2}\n",
        "print(Count)\n",
        "print(Count.subtract(sub))\n",
        "print(Count)\n",
        "print(Count.most_common())"
      ],
      "metadata": {
        "colab": {
          "base_uri": "https://localhost:8080/"
        },
        "id": "jdMhNZZ95CmX",
        "outputId": "9d38369f-a042-4df8-b818-84a085e7d7c5"
      },
      "execution_count": null,
      "outputs": [
        {
          "output_type": "stream",
          "name": "stdout",
          "text": [
            "Counter({5: 4, 10: 3, 9: 2, 17: 2, 4: 2, 3: 2, 7: 2, 8: 2, 6: 1})\n",
            "None\n",
            "Counter({5: 4, 9: 2, 4: 2, 10: 2, 3: 2, 7: 2, 8: 2, 6: 1, 17: 0})\n",
            "[(5, 4), (9, 2), (4, 2), (10, 2), (3, 2), (7, 2), (8, 2), (6, 1), (17, 0)]\n"
          ]
        }
      ]
    },
    {
      "cell_type": "code",
      "source": [
        "# 2. A Python program to demonstrate working of OrderedDict\n",
        "\n",
        "from collections import OrderedDict\n",
        " \n",
        "print(\"This is a Dict:\\n\")\n",
        "d = {}\n",
        "d['a'] = 1\n",
        "d['c'] = 3\n",
        "d['b'] = 2\n",
        "d['d'] = 4\n",
        " \n",
        "for key, value in d.items():\n",
        "    print(key, value)\n",
        " \n",
        "print(\"\\nThis is an Ordered Dict:\\n\")\n",
        "od = OrderedDict()\n",
        "od['a'] = 1\n",
        "od['b'] = 2\n",
        "od['c'] = 3\n",
        "od['d'] = 4\n",
        " \n",
        "for key, value in od.items():\n",
        "    print(key, value)"
      ],
      "metadata": {
        "colab": {
          "base_uri": "https://localhost:8080/"
        },
        "id": "hvRkxtwF5P2V",
        "outputId": "9fb9ba37-30dd-435e-83b2-d86e7b6012ee"
      },
      "execution_count": null,
      "outputs": [
        {
          "output_type": "stream",
          "name": "stdout",
          "text": [
            "This is a Dict:\n",
            "\n",
            "a 1\n",
            "c 3\n",
            "b 2\n",
            "d 4\n",
            "\n",
            "This is an Ordered Dict:\n",
            "\n",
            "a 1\n",
            "b 2\n",
            "c 3\n",
            "d 4\n"
          ]
        }
      ]
    },
    {
      "cell_type": "code",
      "source": [
        "# 3. Default dict\n",
        "\n",
        "from collections import defaultdict\n",
        "dd = defaultdict(int)\n",
        "dd[1] = 'hello'\n",
        "dd[2] = 'world'\n",
        "print(dd[1], dd[2])\n",
        "print(dd[3])  # no key error here, even though there is no 3rd element\n",
        "\n",
        "dd = dict()\n",
        "dd[1] = 'hello'\n",
        "dd[2] = 'world'\n",
        "print(dd[1], dd[2])\n",
        "print(dd[3])  # regular dict, key error"
      ],
      "metadata": {
        "colab": {
          "base_uri": "https://localhost:8080/",
          "height": 253
        },
        "id": "IdJSCJJz6WBq",
        "outputId": "48de1cda-da93-40c9-eed2-7bd4eb8f3904"
      },
      "execution_count": null,
      "outputs": [
        {
          "output_type": "stream",
          "name": "stdout",
          "text": [
            "hello world\n",
            "0\n",
            "hello world\n"
          ]
        },
        {
          "output_type": "error",
          "ename": "KeyError",
          "evalue": "ignored",
          "traceback": [
            "\u001b[0;31m---------------------------------------------------------------------------\u001b[0m",
            "\u001b[0;31mKeyError\u001b[0m                                  Traceback (most recent call last)",
            "\u001b[0;32m<ipython-input-57-647ba44c54f5>\u001b[0m in \u001b[0;36m<module>\u001b[0;34m()\u001b[0m\n\u001b[1;32m     10\u001b[0m \u001b[0mdd\u001b[0m\u001b[0;34m[\u001b[0m\u001b[0;36m2\u001b[0m\u001b[0;34m]\u001b[0m \u001b[0;34m=\u001b[0m \u001b[0;34m'world'\u001b[0m\u001b[0;34m\u001b[0m\u001b[0;34m\u001b[0m\u001b[0m\n\u001b[1;32m     11\u001b[0m \u001b[0mprint\u001b[0m\u001b[0;34m(\u001b[0m\u001b[0mdd\u001b[0m\u001b[0;34m[\u001b[0m\u001b[0;36m1\u001b[0m\u001b[0;34m]\u001b[0m\u001b[0;34m,\u001b[0m \u001b[0mdd\u001b[0m\u001b[0;34m[\u001b[0m\u001b[0;36m2\u001b[0m\u001b[0;34m]\u001b[0m\u001b[0;34m)\u001b[0m\u001b[0;34m\u001b[0m\u001b[0;34m\u001b[0m\u001b[0m\n\u001b[0;32m---> 12\u001b[0;31m \u001b[0mprint\u001b[0m\u001b[0;34m(\u001b[0m\u001b[0mdd\u001b[0m\u001b[0;34m[\u001b[0m\u001b[0;36m3\u001b[0m\u001b[0;34m]\u001b[0m\u001b[0;34m)\u001b[0m\u001b[0;34m\u001b[0m\u001b[0;34m\u001b[0m\u001b[0m\n\u001b[0m",
            "\u001b[0;31mKeyError\u001b[0m: 3"
          ]
        }
      ]
    },
    {
      "cell_type": "code",
      "source": [
        "from collections import OrderedDict\n",
        "od = OrderedDict()\n",
        "od[2] = 'h'\n",
        "od[5] = 'e'\n",
        "od[4] = 'l'\n",
        "od[7] = 'l'\n",
        "od[9] = 'o'\n",
        "print(od)\n",
        "print(\"\")\n",
        "print(od.keys())\n",
        "od[2] = 'b'\n",
        "print(od)"
      ],
      "metadata": {
        "colab": {
          "base_uri": "https://localhost:8080/"
        },
        "id": "nyqNh0JV6Zq1",
        "outputId": "ab6a5043-f43d-4bd7-d768-35327b1350fe"
      },
      "execution_count": null,
      "outputs": [
        {
          "output_type": "stream",
          "name": "stdout",
          "text": [
            "OrderedDict([(2, 'h'), (5, 'e'), (4, 'l'), (7, 'l'), (9, 'o')])\n",
            "\n",
            "odict_keys([2, 5, 4, 7, 9])\n",
            "OrderedDict([(2, 'b'), (5, 'e'), (4, 'l'), (7, 'l'), (9, 'o')])\n"
          ]
        }
      ]
    },
    {
      "cell_type": "code",
      "source": [
        "# 4. ChainMap -- Used to create a single view of multiple mappings\n",
        "\n",
        "from collections import ChainMap\n",
        "\n",
        "sub1 = {1: \"Maths\", 2: \"English\", 3: \"Science\"}\n",
        "sub2 = {4: \"Social\", 5: \"Computer\", 6: \"Hindi\"}\n",
        "\n",
        "sub12 = ChainMap(sub1, sub2)\n",
        "print(sub12)"
      ],
      "metadata": {
        "colab": {
          "base_uri": "https://localhost:8080/"
        },
        "id": "YGQ8NlTmR0ii",
        "outputId": "ff2b9ca6-8a91-48c2-993c-dd1ecf71a34e"
      },
      "execution_count": null,
      "outputs": [
        {
          "output_type": "stream",
          "name": "stdout",
          "text": [
            "ChainMap({1: 'Maths', 2: 'English', 3: 'Science'}, {4: 'Social', 5: 'Computer', 6: 'Hindi'})\n"
          ]
        }
      ]
    },
    {
      "cell_type": "code",
      "source": [
        "sub1 = {1: \"Maths\", 2: \"English\", 3: \"Science\"}\n",
        "sub2 = {1: \"Social\", 5: \"Computer\", 6: \"Hindi\"}\n",
        "sub3 = {8: \"Water\", 9: \"Physics\", 10: \"Data\"}\n",
        "sub123 = ChainMap(sub1, sub2, sub3)\n",
        "print(sub123)"
      ],
      "metadata": {
        "colab": {
          "base_uri": "https://localhost:8080/"
        },
        "id": "QIAaKmAnTvwB",
        "outputId": "c39c7c10-58d2-4685-f762-50bfe7caa9bb"
      },
      "execution_count": null,
      "outputs": [
        {
          "output_type": "stream",
          "name": "stdout",
          "text": [
            "ChainMap({1: 'Maths', 2: 'English', 3: 'Science'}, {1: 'Social', 5: 'Computer', 6: 'Hindi'}, {8: 'Water', 9: 'Physics', 10: 'Data'})\n"
          ]
        }
      ]
    },
    {
      "cell_type": "code",
      "source": [
        "sub223 = ChainMap(sub2, sub2, sub3)\n",
        "print(sub223)"
      ],
      "metadata": {
        "colab": {
          "base_uri": "https://localhost:8080/"
        },
        "id": "y7WWpDjoSgPM",
        "outputId": "da7fb2b8-0a00-4095-8b27-1077c097e720"
      },
      "execution_count": null,
      "outputs": [
        {
          "output_type": "stream",
          "name": "stdout",
          "text": [
            "ChainMap({1: 'Social', 5: 'Computer', 6: 'Hindi'}, {1: 'Social', 5: 'Computer', 6: 'Hindi'}, {8: 'Water', 9: 'Physics', 10: 'Data'})\n"
          ]
        }
      ]
    },
    {
      "cell_type": "markdown",
      "source": [
        "# 5. **NamedTuple**  \n",
        "\n",
        "A namedtuple() returns a tuple consisting of the named value for each element present in the tuple. This container is also used for lists to store data and access it."
      ],
      "metadata": {
        "id": "aci42jbmUnBf"
      }
    },
    {
      "cell_type": "code",
      "source": [
        "from collections import namedtuple\n",
        "\n",
        "Employee = namedtuple('details', ['name', 'age', 'gender'])\n",
        "a = Employee('Amira', 24, 'Female')\n",
        "\n",
        "print(a)\n",
        "print(a[2])\n",
        "print(a.age)"
      ],
      "metadata": {
        "colab": {
          "base_uri": "https://localhost:8080/"
        },
        "id": "mkzOwv5AU45J",
        "outputId": "be3127fb-ba10-4d6c-fe0b-e794f6954af4"
      },
      "execution_count": null,
      "outputs": [
        {
          "output_type": "stream",
          "name": "stdout",
          "text": [
            "details(name='Amira', age=24, gender='Female')\n",
            "Female\n",
            "24\n"
          ]
        }
      ]
    },
    {
      "cell_type": "code",
      "source": [
        "print(a.name, a.age, a.gender)"
      ],
      "metadata": {
        "colab": {
          "base_uri": "https://localhost:8080/"
        },
        "id": "_CMbYbZoVOfm",
        "outputId": "64aac041-c7a2-4c3a-de14-bad0db708f1b"
      },
      "execution_count": null,
      "outputs": [
        {
          "output_type": "stream",
          "name": "stdout",
          "text": [
            "Amira 24 Female\n"
          ]
        }
      ]
    },
    {
      "cell_type": "markdown",
      "source": [
        "# 6. **Deque** - optimized list that performs functions like insertion and deletion easily"
      ],
      "metadata": {
        "id": "CfJbKAgmVkMz"
      }
    },
    {
      "cell_type": "code",
      "source": [
        "from collections import deque\n",
        "\n",
        "job = ['e','l','e','c','t','r','i','c']\n",
        "\n",
        "b = deque(job)\n",
        "print(b)"
      ],
      "metadata": {
        "colab": {
          "base_uri": "https://localhost:8080/"
        },
        "id": "8xv5Bvo_VssC",
        "outputId": "90b06427-dec3-4a86-af89-7ba1037ddbc4"
      },
      "execution_count": null,
      "outputs": [
        {
          "output_type": "stream",
          "name": "stdout",
          "text": [
            "deque(['e', 'l', 'e', 'c', 't', 'r', 'i', 'c'])\n"
          ]
        }
      ]
    },
    {
      "cell_type": "code",
      "source": [
        "b.appendleft('battery')\n",
        "print(b)"
      ],
      "metadata": {
        "colab": {
          "base_uri": "https://localhost:8080/"
        },
        "id": "J4loDTWoV1yu",
        "outputId": "d8d9e7d2-fd0b-4729-baf7-5e0dd2a81734"
      },
      "execution_count": null,
      "outputs": [
        {
          "output_type": "stream",
          "name": "stdout",
          "text": [
            "deque(['battery', 'e', 'l', 'e', 'c', 't', 'r', 'i', 'c'])\n"
          ]
        }
      ]
    },
    {
      "cell_type": "code",
      "source": [
        "b.popleft()\n",
        "print(b)"
      ],
      "metadata": {
        "colab": {
          "base_uri": "https://localhost:8080/"
        },
        "id": "J0ySNIWSV80Y",
        "outputId": "86d18bad-9d2a-4eb1-cd23-43903f2f02b1"
      },
      "execution_count": null,
      "outputs": [
        {
          "output_type": "stream",
          "name": "stdout",
          "text": [
            "deque(['e', 'l', 'e', 'c', 't', 'r', 'i', 'c'])\n"
          ]
        }
      ]
    },
    {
      "cell_type": "markdown",
      "source": [
        "# 8. **UserDict** -- this class acts as a wrapper around the dictionary objects to make subclassing of dictionaries easier"
      ],
      "metadata": {
        "id": "dEKrEO3oWpoN"
      }
    },
    {
      "cell_type": "code",
      "source": [
        "from collections import UserDict\n",
        "ud = {1:'h', 2:'a', 3:'i'}\n",
        "\n",
        "usdi = UserDict(ud)\n",
        "\n",
        "print(usdi)\n",
        "print(usdi.data)\n",
        "\n",
        "usdi = UserDict()\n",
        "print(usdi.data)"
      ],
      "metadata": {
        "colab": {
          "base_uri": "https://localhost:8080/"
        },
        "id": "8ComWG9QV_yN",
        "outputId": "f43acaeb-71cc-4f11-e4ad-1a9aa29f63f9"
      },
      "execution_count": null,
      "outputs": [
        {
          "output_type": "stream",
          "name": "stdout",
          "text": [
            "{1: 'h', 2: 'a', 3: 'i'}\n",
            "{1: 'h', 2: 'a', 3: 'i'}\n",
            "{}\n"
          ]
        }
      ]
    },
    {
      "cell_type": "code",
      "source": [
        "from collections import UserList\n",
        "\n",
        "ul = [1,2,3,4,5,6]\n",
        "\n",
        "usli = UserList(ul)\n",
        "\n",
        "print(usli)\n",
        "print(usli.data)"
      ],
      "metadata": {
        "colab": {
          "base_uri": "https://localhost:8080/"
        },
        "id": "3IDl34_GW-fh",
        "outputId": "49b0f4ea-871f-45c3-ae3a-079ca82a27b7"
      },
      "execution_count": null,
      "outputs": [
        {
          "output_type": "stream",
          "name": "stdout",
          "text": [
            "[1, 2, 3, 4, 5, 6]\n",
            "[1, 2, 3, 4, 5, 6]\n"
          ]
        }
      ]
    },
    {
      "cell_type": "code",
      "source": [
        "from collections import UserString\n",
        "\n",
        "us = ['hello','world']\n",
        "usli = UserString(us)\n",
        "print(usli)\n",
        "print(usli.data)\n",
        "\n",
        "usli = UserString('')\n",
        "print(usli)"
      ],
      "metadata": {
        "colab": {
          "base_uri": "https://localhost:8080/"
        },
        "id": "4Fa0zISnXT-g",
        "outputId": "018eb219-7629-4290-835c-8e38b8788efd"
      },
      "execution_count": null,
      "outputs": [
        {
          "output_type": "stream",
          "name": "stdout",
          "text": [
            "['hello', 'world']\n",
            "['hello', 'world']\n",
            "\n"
          ]
        }
      ]
    },
    {
      "cell_type": "code",
      "source": [
        ""
      ],
      "metadata": {
        "id": "Nxu637VyXgJi"
      },
      "execution_count": null,
      "outputs": []
    }
  ]
}